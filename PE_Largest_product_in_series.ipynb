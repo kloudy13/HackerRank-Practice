{
 "cells": [
  {
   "cell_type": "markdown",
   "metadata": {},
   "source": [
    "# Project Euler \n",
    "## Largest product in a series\n",
    "- The four adjacent digits in the 1000-digit number that have the greatest product are 9 × 9 × 8 × 9 = 5832.\n",
    "- Find the thirteen adjacent digits in the 1000-digit number that have the greatest product. What is the value of this product?"
   ]
  },
  {
   "cell_type": "markdown",
   "metadata": {},
   "source": [
    "Approach: <br>\n",
    "\n",
    "    1) start with idea that the consecutive sequence with the largest sum will also have the largest product - given no zeros present in the series\n",
    "    2) verify for sequences of length 4 \n",
    "    3) Extend to sequences of length later than 4 \n",
    "Discover that in the case the max sum sequence does not necessarily yield the highest product. \n",
    "\n",
    "    4) store candidate sequences with large sums and then find the product of all of these candidate sequences to isolate the one with the maximum product."
   ]
  },
  {
   "cell_type": "code",
   "execution_count": 3,
   "metadata": {},
   "outputs": [],
   "source": [
    "numstr = '73167176531330624919225119674426574742355349194934\\\n",
    "96983520312774506326239578318016984801869478851843\\\n",
    "85861560789112949495459501737958331952853208805511\\\n",
    "12540698747158523863050715693290963295227443043557\\\n",
    "66896648950445244523161731856403098711121722383113\\\n",
    "62229893423380308135336276614282806444486645238749\\\n",
    "30358907296290491560440772390713810515859307960866\\\n",
    "70172427121883998797908792274921901699720888093776\\\n",
    "65727333001053367881220235421809751254540594752243\\\n",
    "52584907711670556013604839586446706324415722155397\\\n",
    "53697817977846174064955149290862569321978468622482\\\n",
    "83972241375657056057490261407972968652414535100474\\\n",
    "82166370484403199890008895243450658541227588666881\\\n",
    "16427171479924442928230863465674813919123162824586\\\n",
    "17866458359124566529476545682848912883142607690042\\\n",
    "24219022671055626321111109370544217506941658960408\\\n",
    "07198403850962455444362981230987879927244284909188\\\n",
    "84580156166097919133875499200524063689912560717606\\\n",
    "05886116467109405077541002256983155200055935729725\\\n",
    "71636269561882670428252483600823257530420752963450'"
   ]
  },
  {
   "cell_type": "code",
   "execution_count": 17,
   "metadata": {},
   "outputs": [],
   "source": [
    "ls =list(map(int,numstr))\n",
    "lslen = len(ls)"
   ]
  },
  {
   "cell_type": "code",
   "execution_count": 41,
   "metadata": {},
   "outputs": [
    {
     "name": "stdout",
     "output_type": "stream",
     "text": [
      "maxsum: 35 and maxidx: 615\n"
     ]
    }
   ],
   "source": [
    "prodlen = 4 \n",
    "maxsum = 0 \n",
    "maxidx = 0\n",
    "alternative_ls = []\n",
    "for i in range(0,lslen-prodlen+1):\n",
    "    current_sum = sum(ls[i:i+prodlen])\n",
    "    if current_sum > maxsum:\n",
    "        maxsum = current_sum\n",
    "        maxidx = i \n",
    "    if current_sum == maxsum:\n",
    "        alternative_ls.append(ls[i:i+prodlen])\n",
    "print('maxsum: {} and maxidx: {}'.format(maxsum, maxidx))"
   ]
  },
  {
   "cell_type": "code",
   "execution_count": 48,
   "metadata": {},
   "outputs": [],
   "source": [
    "import numpy as np "
   ]
  },
  {
   "cell_type": "code",
   "execution_count": 26,
   "metadata": {},
   "outputs": [
    {
     "name": "stdout",
     "output_type": "stream",
     "text": [
      "Maxprod of [9, 9, 8, 9] is 5832\n"
     ]
    }
   ],
   "source": [
    "maxprod = np.prod(ls[maxidx:maxidx+prodlen]) \n",
    "print('Maxprod of {} is {}'.format(ls[maxidx:maxidx+prodlen], maxprod))"
   ]
  },
  {
   "cell_type": "code",
   "execution_count": 63,
   "metadata": {},
   "outputs": [
    {
     "name": "stdout",
     "output_type": "stream",
     "text": [
      "maxsum: 85 and maxidx: 498\n"
     ]
    }
   ],
   "source": [
    "prodlen = 13\n",
    "maxsum = 0 \n",
    "maxidx = 0\n",
    "alternative_ls = []\n",
    "for i in range(0,lslen-prodlen+1):\n",
    "    if 0 in ls[i:i+prodlen]:\n",
    "        current_sum = 0\n",
    "    else: \n",
    "        current_sum = sum(ls[i:i+prodlen])\n",
    "    if current_sum > maxsum:\n",
    "        maxsum = current_sum\n",
    "        maxidx = i \n",
    "    if current_sum == maxsum:\n",
    "        alternative_ls.append(ls[i:i+prodlen])\n",
    "print('maxsum: {} and maxidx: {}'.format(maxsum, maxidx))"
   ]
  },
  {
   "cell_type": "code",
   "execution_count": 71,
   "metadata": {},
   "outputs": [],
   "source": [
    "max_prod = max(np.array(alternative_ls).prod(axis=1))\n",
    "max_prod_idx = np.argmax(np.array(alternative_ls).prod(axis=1))"
   ]
  },
  {
   "cell_type": "code",
   "execution_count": 72,
   "metadata": {},
   "outputs": [
    {
     "name": "stdout",
     "output_type": "stream",
     "text": [
      "Maxprod of [5, 5, 7, 6, 6, 8, 9, 6, 6, 4, 8, 9, 5] is 23514624000\n"
     ]
    }
   ],
   "source": [
    "print('Maxprod of {} is {}'.format(alternative_ls[max_prod_idx], max_prod))"
   ]
  },
  {
   "cell_type": "code",
   "execution_count": null,
   "metadata": {},
   "outputs": [],
   "source": []
  }
 ],
 "metadata": {
  "kernelspec": {
   "display_name": "Python 3",
   "language": "python",
   "name": "python3"
  },
  "language_info": {
   "codemirror_mode": {
    "name": "ipython",
    "version": 3
   },
   "file_extension": ".py",
   "mimetype": "text/x-python",
   "name": "python",
   "nbconvert_exporter": "python",
   "pygments_lexer": "ipython3",
   "version": "3.7.3"
  }
 },
 "nbformat": 4,
 "nbformat_minor": 4
}
